{
 "cells": [
  {
   "cell_type": "code",
   "execution_count": 2,
   "metadata": {},
   "outputs": [],
   "source": [
    "# Import necessary libraries\n",
    "import pandas as pd\n",
    "import numpy as np\n",
    "from sklearn.model_selection import train_test_split\n",
    "from sklearn.preprocessing import StandardScaler\n",
    "from sklearn.ensemble import RandomForestClassifier\n",
    "from sklearn.metrics import confusion_matrix, classification_report, roc_auc_score\n",
    "import matplotlib.pyplot as plt\n",
    "\n",
    "# Load the datasets\n",
    "train_transaction = pd.read_csv('train_transaction_sample.csv')\n",
    "test_transaction = pd.read_csv('test_transaction_sample.csv')\n",
    "train_identity = pd.read_csv('train_identity.csv')\n",
    "test_identity = pd.read_csv('test_identity.csv')"
   ]
  },
  {
   "cell_type": "code",
   "execution_count": 3,
   "metadata": {},
   "outputs": [],
   "source": [
    "# Merge the datasets on TransactionID\n",
    "train_data = pd.merge(train_transaction, train_identity, on='TransactionID', how='left')"
   ]
  },
  {
   "cell_type": "code",
   "execution_count": 4,
   "metadata": {},
   "outputs": [],
   "source": [
    "test_data = pd.merge(test_transaction, test_identity, on='TransactionID', how='left')"
   ]
  },
  {
   "cell_type": "code",
   "execution_count": 5,
   "metadata": {},
   "outputs": [
    {
     "name": "stdout",
     "output_type": "stream",
     "text": [
      "   TransactionID  isFraud  TransactionDT  TransactionAmt ProductCD  card1  \\\n",
      "0        2987000        0          86400            68.5         W  13926   \n",
      "1        2987001        0          86401            29.0         W   2755   \n",
      "2        2987002        0          86469            59.0         W   4663   \n",
      "3        2987003        0          86499            50.0         W  18132   \n",
      "4        2987004        0          86506            50.0         H   4497   \n",
      "\n",
      "   card2  card3       card4  card5              ...                \\\n",
      "0    NaN    150    discover    142              ...                 \n",
      "1  404.0    150  mastercard    102              ...                 \n",
      "2  490.0    150        visa    166              ...                 \n",
      "3  567.0    150  mastercard    117              ...                 \n",
      "4  514.0    150  mastercard    102              ...                 \n",
      "\n",
      "                 id_31  id_32      id_33           id_34  id_35 id_36 id_37  \\\n",
      "0                  NaN    NaN        NaN             NaN    NaN   NaN   NaN   \n",
      "1                  NaN    NaN        NaN             NaN    NaN   NaN   NaN   \n",
      "2                  NaN    NaN        NaN             NaN    NaN   NaN   NaN   \n",
      "3                  NaN    NaN        NaN             NaN    NaN   NaN   NaN   \n",
      "4  samsung browser 6.2   32.0  2220x1080  match_status:2      T     F     T   \n",
      "\n",
      "   id_38  DeviceType                     DeviceInfo  \n",
      "0    NaN         NaN                            NaN  \n",
      "1    NaN         NaN                            NaN  \n",
      "2    NaN         NaN                            NaN  \n",
      "3    NaN         NaN                            NaN  \n",
      "4      T      mobile  SAMSUNG SM-G892A Build/NRD90M  \n",
      "\n",
      "[5 rows x 434 columns]\n",
      "   TransactionID  TransactionDT  TransactionAmt ProductCD  card1  card2  \\\n",
      "0        3663549       18403224           31.95         W  10409    111   \n",
      "1        3663550       18403263           49.00         W   4272    111   \n",
      "2        3663551       18403310          171.00         W   4476    574   \n",
      "3        3663552       18403310          284.95         W  10989    360   \n",
      "4        3663553       18403317           67.95         W  18018    452   \n",
      "\n",
      "   card3       card4  card5  card6     ...      id-31  id-32  id-33  id-34  \\\n",
      "0    150        visa    226  debit     ...        NaN    NaN    NaN    NaN   \n",
      "1    150        visa    226  debit     ...        NaN    NaN    NaN    NaN   \n",
      "2    150        visa    226  debit     ...        NaN    NaN    NaN    NaN   \n",
      "3    150        visa    166  debit     ...        NaN    NaN    NaN    NaN   \n",
      "4    150  mastercard    117  debit     ...        NaN    NaN    NaN    NaN   \n",
      "\n",
      "  id-35  id-36  id-37  id-38  DeviceType  DeviceInfo  \n",
      "0   NaN    NaN    NaN    NaN         NaN         NaN  \n",
      "1   NaN    NaN    NaN    NaN         NaN         NaN  \n",
      "2   NaN    NaN    NaN    NaN         NaN         NaN  \n",
      "3   NaN    NaN    NaN    NaN         NaN         NaN  \n",
      "4   NaN    NaN    NaN    NaN         NaN         NaN  \n",
      "\n",
      "[5 rows x 433 columns]\n",
      "Size of train data: (35, 434)\n",
      "Size of test data: (35, 433)\n",
      "Missing values in train data: 7187\n",
      "Missing values in test data: 7774\n"
     ]
    }
   ],
   "source": [
    "# Display the first few rows of the merged datasets\n",
    "print(train_data.head())\n",
    "print(test_data.head())\n",
    "\n",
    "print(\"Size of train data:\", train_data.shape)\n",
    "print(\"Size of test data:\", test_data.shape)\n",
    "\n",
    "# Check for missing values\n",
    "print(\"Missing values in train data:\", train_data.isnull().sum().sum())\n",
    "print(\"Missing values in test data:\", test_data.isnull().sum().sum())"
   ]
  },
  {
   "cell_type": "code",
   "execution_count": 6,
   "metadata": {},
   "outputs": [
    {
     "name": "stdout",
     "output_type": "stream",
     "text": [
      "Class distribution in target variable:\n",
      "0    35\n",
      "Name: isFraud, dtype: int64\n"
     ]
    }
   ],
   "source": [
    "# Fill missing values\n",
    "train_data.fillna(-999, inplace=True)\n",
    "test_data.fillna(-999, inplace=True)\n",
    "\n",
    "# Define features and target\n",
    "X = train_data.drop(columns=['isFraud', 'TransactionID'])\n",
    "y = train_data['isFraud']\n",
    "\n",
    "# Convert categorical variables to dummy variables\n",
    "X = pd.get_dummies(X)\n",
    "test_data = pd.get_dummies(test_data.drop(columns=['TransactionID']))\n",
    "\n",
    "# Ensure the train and test datasets have the same dummy variables\n",
    "X, test_data = X.align(test_data, join='left', axis=1, fill_value=0)\n",
    "\n",
    "# Check the balance of target classes\n",
    "print(\"Class distribution in target variable:\")\n",
    "print(y.value_counts())"
   ]
  },
  {
   "cell_type": "code",
   "execution_count": 11,
   "metadata": {},
   "outputs": [
    {
     "name": "stdout",
     "output_type": "stream",
     "text": [
      "Training set size: (28, 499)\n",
      "Validation set size: (7, 499)\n",
      "Class distribution in training set:\n",
      " 0    28\n",
      "Name: isFraud, dtype: int64\n",
      "Class distribution in validation set:\n",
      " 0    7\n",
      "Name: isFraud, dtype: int64\n"
     ]
    }
   ],
   "source": [
    "# Split the data into training and validation sets with stratification\n",
    "X_train, X_val, y_train, y_val = train_test_split(X, y, test_size=0.2, random_state=42, stratify=y)\n",
    "\n",
    "# Check the sizes of the splits\n",
    "print(\"Training set size:\", X_train.shape)\n",
    "print(\"Validation set size:\", X_val.shape)\n",
    "print(\"Class distribution in training set:\\n\", y_train.value_counts())\n",
    "print(\"Class distribution in validation set:\\n\", y_val.value_counts())\n",
    "\n",
    "# Standardize the features\n",
    "scaler = StandardScaler()\n",
    "X_train_scaled = scaler.fit_transform(X_train)\n",
    "X_val_scaled = scaler.transform(X_val)\n",
    "test_data_scaled = scaler.transform(test_data)"
   ]
  },
  {
   "cell_type": "code",
   "execution_count": 12,
   "metadata": {},
   "outputs": [
    {
     "data": {
      "text/plain": [
       "RandomForestClassifier(bootstrap=True, class_weight=None, criterion='gini',\n",
       "            max_depth=None, max_features='auto', max_leaf_nodes=None,\n",
       "            min_impurity_decrease=0.0, min_impurity_split=None,\n",
       "            min_samples_leaf=1, min_samples_split=2,\n",
       "            min_weight_fraction_leaf=0.0, n_estimators=100, n_jobs=1,\n",
       "            oob_score=False, random_state=42, verbose=0, warm_start=False)"
      ]
     },
     "execution_count": 12,
     "metadata": {},
     "output_type": "execute_result"
    }
   ],
   "source": [
    "# Build the model\n",
    "model = RandomForestClassifier(n_estimators=100, random_state=42)\n",
    "model.fit(X_train_scaled, y_train)"
   ]
  },
  {
   "cell_type": "code",
   "execution_count": 13,
   "metadata": {},
   "outputs": [
    {
     "name": "stdout",
     "output_type": "stream",
     "text": [
      "Shape of y_pred_proba: (7, 1)\n",
      "Only one class present in y_pred_proba. ROC AUC score might not be defined.\n",
      "Confusion Matrix:\n",
      "[[7]]\n",
      "\n",
      "Classification Report:\n",
      "             precision    recall  f1-score   support\n",
      "\n",
      "          0       1.00      1.00      1.00         7\n",
      "\n",
      "avg / total       1.00      1.00      1.00         7\n",
      "\n",
      "\n",
      "ROC AUC Score: undefined\n"
     ]
    }
   ],
   "source": [
    "# Evaluate the model\n",
    "y_pred = model.predict(X_val_scaled)\n",
    "y_pred_proba = model.predict_proba(X_val_scaled)\n",
    "\n",
    "# Check the shape of y_pred_proba\n",
    "print(\"Shape of y_pred_proba:\", y_pred_proba.shape)\n",
    "\n",
    "# Ensure we have probabilities for both classes\n",
    "if y_pred_proba.shape[1] > 1:\n",
    "    y_pred_proba = y_pred_proba[:, 1]\n",
    "else:\n",
    "    y_pred_proba = y_pred_proba[:, 0]\n",
    "    print(\"Only one class present in y_pred_proba. ROC AUC score might not be defined.\")\n",
    "\n",
    "# Calculate evaluation metrics\n",
    "conf_matrix = confusion_matrix(y_val, y_pred)\n",
    "class_report = classification_report(y_val, y_pred)\n",
    "\n",
    "# Calculate ROC AUC score if applicable\n",
    "if len(np.unique(y_val)) > 1:\n",
    "    roc_auc = roc_auc_score(y_val, y_pred_proba)\n",
    "else:\n",
    "    roc_auc = 'undefined'\n",
    "\n",
    "# Print the results\n",
    "print(\"Confusion Matrix:\")\n",
    "print(conf_matrix)\n",
    "print(\"\\nClassification Report:\")\n",
    "print(class_report)\n",
    "print(\"\\nROC AUC Score:\", roc_auc)\n"
   ]
  },
  {
   "cell_type": "code",
   "execution_count": 16,
   "metadata": {},
   "outputs": [
    {
     "data": {
      "image/png": "[encoded data removed]",
      "text/plain": [
       "<matplotlib.figure.Figure at 0xffff9a6708d0>"
      ]
     },
     "metadata": {},
     "output_type": "display_data"
    },
    {
     "name": "stderr",
     "output_type": "stream",
     "text": [
      "/usr/lib/python3/dist-packages/sklearn/metrics/ranking.py:571: UndefinedMetricWarning: No positive samples in y_true, true positive value should be meaningless\n",
      "  UndefinedMetricWarning)\n"
     ]
    },
    {
     "data": {
      "image/png": "[encoded data removed]",
      "text/plain": [
       "<matplotlib.figure.Figure at 0xffff9a62ee48>"
      ]
     },
     "metadata": {},
     "output_type": "display_data"
    }
   ],
   "source": [
    "# Plot confusion matrix\n",
    "plt.figure(figsize=(8, 6))\n",
    "plt.imshow(conf_matrix, interpolation='nearest', cmap=plt.cm.Blues)\n",
    "plt.title('Confusion Matrix')\n",
    "plt.colorbar()\n",
    "tick_marks = np.arange(2)\n",
    "plt.xticks(tick_marks, ['Non-Fraud', 'Fraud'], rotation=45)\n",
    "plt.yticks(tick_marks, ['Non-Fraud', 'Fraud'])\n",
    "plt.tight_layout()\n",
    "plt.ylabel('Actual label')\n",
    "plt.xlabel('Predicted label')\n",
    "\n",
    "thresh = conf_matrix.max() / 2.\n",
    "for i, j in np.ndindex(conf_matrix.shape):\n",
    "    plt.text(j, i, format(conf_matrix[i, j], 'd'),\n",
    "             horizontalalignment=\"center\",\n",
    "             color=\"white\" if conf_matrix[i, j] > thresh else \"black\")\n",
    "plt.show()\n",
    "\n",
    "# Plot ROC curve\n",
    "from sklearn.metrics import roc_curve\n",
    "\n",
    "fpr, tpr, thresholds = roc_curve(y_val, y_pred_proba)\n",
    "plt.figure()\n",
    "plt.plot(fpr, tpr, color='darkorange', lw=2, label='ROC curve')\n",
    "plt.plot([0, 1], [0, 1], color='navy', lw=2, linestyle='--')\n",
    "plt.xlim([0.0, 1.0])\n",
    "plt.ylim([0.0, 1.05])\n",
    "plt.xlabel('False Positive Rate')\n",
    "plt.ylabel('True Positive Rate')\n",
    "plt.title('Receiver Operating Characteristic')\n",
    "plt.legend(loc=\"lower right\")\n",
    "plt.show()"
   ]
  },
  {
   "cell_type": "code",
   "execution_count": 15,
   "metadata": {},
   "outputs": [],
   "source": [
    "# Predict on the test data\n",
    "test_predictions = model.predict(test_data_scaled)\n",
    "\n",
    "# Save the predictions to a CSV file\n",
    "submission = pd.DataFrame({\n",
    "    'TransactionID': pd.read_csv('test_transaction_sample.csv')['TransactionID'],\n",
    "    'isFraud': test_predictions\n",
    "})\n",
    "submission.to_csv('submission.csv', index=False)"
   ]
  },
  {
   "cell_type": "code",
   "execution_count": null,
   "metadata": {},
   "outputs": [],
   "source": []
  }
 ],
 "metadata": {
  "kernelspec": {
   "display_name": "Python 3",
   "language": "python",
   "name": "python3"
  },
  "language_info": {
   "codemirror_mode": {
    "name": "ipython",
    "version": 3
   },
   "file_extension": ".py",
   "mimetype": "text/x-python",
   "name": "python",
   "nbconvert_exporter": "python",
   "pygments_lexer": "ipython3",
   "version": "3.6.9"
  }
 },
 "nbformat": 4,
 "nbformat_minor": 2
}
