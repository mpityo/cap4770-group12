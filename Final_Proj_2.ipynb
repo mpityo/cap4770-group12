{
 "cells": [
  {
   "cell_type": "code",
   "execution_count": 1,
   "metadata": {},
   "outputs": [
    {
     "name": "stderr",
     "output_type": "stream",
     "text": [
      "/home/datascience/.local/lib/python3.8/site-packages/scipy/__init__.py:143: UserWarning: A NumPy version >=1.19.5 and <1.27.0 is required for this version of SciPy (detected version 1.17.4)\n",
      "  warnings.warn(f\"A NumPy version >={np_minversion} and <{np_maxversion}\"\n"
     ]
    }
   ],
   "source": [
    "# Import necessary libraries\n",
    "import pandas as pd\n",
    "import numpy as np\n",
    "from sklearn.model_selection import train_test_split\n",
    "from sklearn.preprocessing import StandardScaler, OneHotEncoder\n",
    "from sklearn.ensemble import RandomForestClassifier, GradientBoostingClassifier\n",
    "from sklearn.linear_model import LogisticRegression\n",
    "from sklearn.metrics import confusion_matrix, classification_report, roc_auc_score, roc_curve\n",
    "import matplotlib.pyplot as plt\n",
    "from sklearn.compose import ColumnTransformer\n",
    "from sklearn.pipeline import Pipeline\n",
    "from sklearn.impute import SimpleImputer\n",
    "from sklearn.utils import resample\n",
    "\n",
    "# Load the datasets\n",
    "train_transaction = pd.read_csv('train_transaction.csv')\n",
    "test_transaction = pd.read_csv('test_transaction.csv')\n",
    "train_identity = pd.read_csv('train_identity.csv')\n",
    "test_identity = pd.read_csv('test_identity.csv')"
   ]
  },
  {
   "cell_type": "code",
   "execution_count": 2,
   "metadata": {},
   "outputs": [
    {
     "name": "stdout",
     "output_type": "stream",
     "text": [
      "   TransactionID  isFraud  TransactionDT  TransactionAmt ProductCD  card1  \\\n",
      "0        2987000        0          86400            68.5         W  13926   \n",
      "1        2987001        0          86401            29.0         W   2755   \n",
      "2        2987002        0          86469            59.0         W   4663   \n",
      "3        2987003        0          86499            50.0         W  18132   \n",
      "4        2987004        0          86506            50.0         H   4497   \n",
      "\n",
      "   card2  card3       card4  card5  ...                id_31  id_32  \\\n",
      "0    NaN  150.0    discover  142.0  ...                  NaN    NaN   \n",
      "1  404.0  150.0  mastercard  102.0  ...                  NaN    NaN   \n",
      "2  490.0  150.0        visa  166.0  ...                  NaN    NaN   \n",
      "3  567.0  150.0  mastercard  117.0  ...                  NaN    NaN   \n",
      "4  514.0  150.0  mastercard  102.0  ...  samsung browser 6.2   32.0   \n",
      "\n",
      "       id_33           id_34  id_35 id_36 id_37  id_38  DeviceType  \\\n",
      "0        NaN             NaN    NaN   NaN   NaN    NaN         NaN   \n",
      "1        NaN             NaN    NaN   NaN   NaN    NaN         NaN   \n",
      "2        NaN             NaN    NaN   NaN   NaN    NaN         NaN   \n",
      "3        NaN             NaN    NaN   NaN   NaN    NaN         NaN   \n",
      "4  2220x1080  match_status:2      T     F     T      T      mobile   \n",
      "\n",
      "                      DeviceInfo  \n",
      "0                            NaN  \n",
      "1                            NaN  \n",
      "2                            NaN  \n",
      "3                            NaN  \n",
      "4  SAMSUNG SM-G892A Build/NRD90M  \n",
      "\n",
      "[5 rows x 434 columns]\n",
      "   TransactionID  TransactionDT  TransactionAmt ProductCD  card1  card2  \\\n",
      "0        3663549       18403224           31.95         W  10409  111.0   \n",
      "1        3663550       18403263           49.00         W   4272  111.0   \n",
      "2        3663551       18403310          171.00         W   4476  574.0   \n",
      "3        3663552       18403310          284.95         W  10989  360.0   \n",
      "4        3663553       18403317           67.95         W  18018  452.0   \n",
      "\n",
      "   card3       card4  card5  card6  ...  id-31  id-32  id-33  id-34 id-35  \\\n",
      "0  150.0        visa  226.0  debit  ...    NaN    NaN    NaN    NaN   NaN   \n",
      "1  150.0        visa  226.0  debit  ...    NaN    NaN    NaN    NaN   NaN   \n",
      "2  150.0        visa  226.0  debit  ...    NaN    NaN    NaN    NaN   NaN   \n",
      "3  150.0        visa  166.0  debit  ...    NaN    NaN    NaN    NaN   NaN   \n",
      "4  150.0  mastercard  117.0  debit  ...    NaN    NaN    NaN    NaN   NaN   \n",
      "\n",
      "  id-36  id-37  id-38  DeviceType  DeviceInfo  \n",
      "0   NaN    NaN    NaN         NaN         NaN  \n",
      "1   NaN    NaN    NaN         NaN         NaN  \n",
      "2   NaN    NaN    NaN         NaN         NaN  \n",
      "3   NaN    NaN    NaN         NaN         NaN  \n",
      "4   NaN    NaN    NaN         NaN         NaN  \n",
      "\n",
      "[5 rows x 433 columns]\n",
      "Size of train data: (590540, 434)\n",
      "Size of test data: (506691, 433)\n",
      "Missing values in train data: 115523073\n",
      "Missing values in test data: 90186908\n"
     ]
    }
   ],
   "source": [
    "# Merge the datasets on TransactionID\n",
    "train_data = pd.merge(train_transaction, train_identity, on='TransactionID', how='left')\n",
    "test_data = pd.merge(test_transaction, test_identity, on='TransactionID', how='left')\n",
    "\n",
    "# Display the first few rows of the merged datasets\n",
    "print(train_data.head())\n",
    "print(test_data.head())\n",
    "\n",
    "print(\"Size of train data:\", train_data.shape)\n",
    "print(\"Size of test data:\", test_data.shape)\n",
    "\n",
    "# Check for missing values\n",
    "print(\"Missing values in train data:\", train_data.isnull().sum().sum())\n",
    "print(\"Missing values in test data:\", test_data.isnull().sum().sum())"
   ]
  },
  {
   "cell_type": "code",
   "execution_count": 3,
   "metadata": {},
   "outputs": [],
   "source": [
    "# Define features and target\n",
    "X = train_data.drop(columns=['isFraud', 'TransactionID'])\n",
    "y = train_data['isFraud']\n",
    "\n",
    "# Handle categorical variables and missing values using a pipeline\n",
    "numeric_features = X.select_dtypes(include=['int64', 'float64']).columns\n",
    "categorical_features = X.select_dtypes(include=['object']).columns\n",
    "\n",
    "numeric_transformer = Pipeline(steps=[\n",
    "    ('imputer', SimpleImputer(strategy='median')),\n",
    "    ('scaler', StandardScaler())])\n",
    "\n",
    "categorical_transformer = Pipeline(steps=[\n",
    "    ('imputer', SimpleImputer(strategy='most_frequent')),\n",
    "    ('onehot', OneHotEncoder(handle_unknown='ignore', sparse=False))])\n",
    "\n",
    "preprocessor = ColumnTransformer(\n",
    "    transformers=[\n",
    "        ('num', numeric_transformer, numeric_features),\n",
    "        ('cat', categorical_transformer, categorical_features)])\n",
    "\n",
    "# Apply undersampling to balance the dataset\n",
    "fraud = train_data[train_data['isFraud'] == 1]\n",
    "non_fraud = train_data[train_data['isFraud'] == 0]\n",
    "\n",
    "non_fraud_downsampled = resample(non_fraud,\n",
    "                                 replace=False,\n",
    "                                 n_samples=len(fraud),\n",
    "                                 random_state=42)\n",
    "\n",
    "train_data_balanced = pd.concat([fraud, non_fraud_downsampled])\n",
    "\n",
    "X_balanced = train_data_balanced.drop(columns=['isFraud', 'TransactionID'])\n",
    "y_balanced = train_data_balanced['isFraud']\n",
    "\n",
    "# Sample a subset of the balanced data to reduce computational load\n",
    "X_sampled, _, y_sampled, _ = train_test_split(X_balanced, y_balanced, test_size=0.9, random_state=42, stratify=y_balanced)\n",
    "\n",
    "# Split the sampled data into training and validation sets\n",
    "X_train, X_val, y_train, y_val = train_test_split(X_sampled, y_sampled, test_size=0.2, random_state=42, stratify=y_sampled)"
   ]
  },
  {
   "cell_type": "code",
   "execution_count": 4,
   "metadata": {},
   "outputs": [],
   "source": [
    "# Initialize models\n",
    "models = {\n",
    "    'RandomForest': RandomForestClassifier(n_estimators=100, random_state=42),\n",
    "    'LogisticRegression': LogisticRegression(random_state=42, max_iter=1000),\n",
    "    'GradientBoosting': GradientBoostingClassifier(random_state=42, n_estimators=100)\n",
    "}\n",
    "\n",
    "results = {}"
   ]
  },
  {
   "cell_type": "code",
   "execution_count": 5,
   "metadata": {},
   "outputs": [
    {
     "name": "stderr",
     "output_type": "stream",
     "text": [
      "/home/datascience/.local/lib/python3.8/site-packages/sklearn/preprocessing/_encoders.py:975: FutureWarning: `sparse` was renamed to `sparse_output` in version 1.2 and will be removed in 1.4. `sparse_output` is ignored unless you leave `sparse` to its default value.\n",
      "  warnings.warn(\n",
      "/home/datascience/.local/lib/python3.8/site-packages/sklearn/preprocessing/_encoders.py:975: FutureWarning: `sparse` was renamed to `sparse_output` in version 1.2 and will be removed in 1.4. `sparse_output` is ignored unless you leave `sparse` to its default value.\n",
      "  warnings.warn(\n",
      "/home/datascience/.local/lib/python3.8/site-packages/sklearn/preprocessing/_encoders.py:975: FutureWarning: `sparse` was renamed to `sparse_output` in version 1.2 and will be removed in 1.4. `sparse_output` is ignored unless you leave `sparse` to its default value.\n",
      "  warnings.warn(\n"
     ]
    }
   ],
   "source": [
    "# Train and evaluate models\n",
    "for model_name, model in models.items():\n",
    "    pipeline = Pipeline(steps=[('preprocessor', preprocessor),\n",
    "                               ('classifier', model)])\n",
    "    \n",
    "    pipeline.fit(X_train, y_train)\n",
    "    \n",
    "    y_pred = pipeline.predict(X_val)\n",
    "    y_pred_proba = pipeline.predict_proba(X_val)[:, 1]\n",
    "    \n",
    "    conf_matrix = confusion_matrix(y_val, y_pred)\n",
    "    class_report = classification_report(y_val, y_pred)\n",
    "    roc_auc = roc_auc_score(y_val, y_pred_proba)\n",
    "    \n",
    "    results[model_name] = {\n",
    "        'confusion_matrix': conf_matrix,\n",
    "        'classification_report': class_report,\n",
    "        'roc_auc': roc_auc\n",
    "    }"
   ]
  },
  {
   "cell_type": "code",
   "execution_count": 7,
   "metadata": {},
   "outputs": [
    {
     "name": "stdout",
     "output_type": "stream",
     "text": [
      "Model: RandomForest\n",
      "Confusion Matrix:\n",
      "[[336  78]\n",
      " [ 78 335]]\n",
      "\n",
      "Classification Report:\n",
      "              precision    recall  f1-score   support\n",
      "\n",
      "           0       0.81      0.81      0.81       414\n",
      "           1       0.81      0.81      0.81       413\n",
      "\n",
      "    accuracy                           0.81       827\n",
      "   macro avg       0.81      0.81      0.81       827\n",
      "weighted avg       0.81      0.81      0.81       827\n",
      "\n",
      "\n",
      "ROC AUC Score: 0.8860815758383923\n",
      "\n",
      "\n",
      "Model: LogisticRegression\n",
      "Confusion Matrix:\n",
      "[[341  73]\n",
      " [124 289]]\n",
      "\n",
      "Classification Report:\n",
      "              precision    recall  f1-score   support\n",
      "\n",
      "           0       0.73      0.82      0.78       414\n",
      "           1       0.80      0.70      0.75       413\n",
      "\n",
      "    accuracy                           0.76       827\n",
      "   macro avg       0.77      0.76      0.76       827\n",
      "weighted avg       0.77      0.76      0.76       827\n",
      "\n",
      "\n",
      "ROC AUC Score: 0.8263384449825127\n",
      "\n",
      "\n",
      "Model: GradientBoosting\n",
      "Confusion Matrix:\n",
      "[[342  72]\n",
      " [ 89 324]]\n",
      "\n",
      "Classification Report:\n",
      "              precision    recall  f1-score   support\n",
      "\n",
      "           0       0.79      0.83      0.81       414\n",
      "           1       0.82      0.78      0.80       413\n",
      "\n",
      "    accuracy                           0.81       827\n",
      "   macro avg       0.81      0.81      0.81       827\n",
      "weighted avg       0.81      0.81      0.81       827\n",
      "\n",
      "\n",
      "ROC AUC Score: 0.8845814179270333\n",
      "\n",
      "\n"
     ]
    }
   ],
   "source": [
    "# Print results\n",
    "for model_name, result in results.items():\n",
    "    print(f\"Model: {model_name}\")\n",
    "    print(\"Confusion Matrix:\")\n",
    "    print(result['confusion_matrix'])\n",
    "    print(\"\\nClassification Report:\")\n",
    "    print(result['classification_report'])\n",
    "    print(\"\\nROC AUC Score:\", result['roc_auc'])\n",
    "    print(\"\\n\")"
   ]
  },
  {
   "cell_type": "code",
   "execution_count": 8,
   "metadata": {},
   "outputs": [
    {
     "data": {
      "image/png": "[encoded data removed]",
      "text/plain": [
       "<Figure size 720x576 with 1 Axes>"
      ]
     },
     "metadata": {
      "needs_background": "light"
     },
     "output_type": "display_data"
    }
   ],
   "source": [
    "# Plot ROC curves for all models\n",
    "plt.figure(figsize=(10, 8))\n",
    "for model_name, result in results.items():\n",
    "    fpr, tpr, _ = roc_curve(y_val, models[model_name].predict_proba(preprocessor.transform(X_val))[:, 1])\n",
    "    plt.plot(fpr, tpr, lw=2, label=f'{model_name} (AUC = {result[\"roc_auc\"]:.2f})')\n",
    "\n",
    "plt.plot([0, 1], [0, 1], color='navy', lw=2, linestyle='--')\n",
    "plt.xlim([0.0, 1.0])\n",
    "plt.ylim([0.0, 1.05])\n",
    "plt.xlabel('False Positive Rate')\n",
    "plt.ylabel('True Positive Rate')\n",
    "plt.title('Receiver Operating Characteristic')\n",
    "plt.legend(loc=\"lower right\")\n",
    "plt.show()"
   ]
  },
  {
   "cell_type": "code",
   "execution_count": null,
   "metadata": {},
   "outputs": [],
   "source": []
  }
 ],
 "metadata": {
  "kernelspec": {
   "display_name": "Python 3",
   "language": "python",
   "name": "python3"
  },
  "language_info": {
   "codemirror_mode": {
    "name": "ipython",
    "version": 3
   },
   "file_extension": ".py",
   "mimetype": "text/x-python",
   "name": "python",
   "nbconvert_exporter": "python",
   "pygments_lexer": "ipython3",
   "version": "3.8.10"
  }
 },
 "nbformat": 4,
 "nbformat_minor": 4
}
