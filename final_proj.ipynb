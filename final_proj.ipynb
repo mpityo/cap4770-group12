{
 "cells": [
  {
   "cell_type": "code",
   "execution_count": 1,
   "metadata": {},
   "outputs": [
    {
     "name": "stderr",
     "output_type": "stream",
     "text": [
      "/home/datascience/.local/lib/python3.8/site-packages/scipy/__init__.py:143: UserWarning: A NumPy version >=1.19.5 and <1.27.0 is required for this version of SciPy (detected version 1.17.4)\n",
      "  warnings.warn(f\"A NumPy version >={np_minversion} and <{np_maxversion}\"\n"
     ]
    }
   ],
   "source": [
    "# Import necessary libraries\n",
    "import pandas as pd\n",
    "import numpy as np\n",
    "from sklearn.model_selection import train_test_split\n",
    "from sklearn.preprocessing import StandardScaler, OneHotEncoder\n",
    "from sklearn.ensemble import RandomForestClassifier\n",
    "from sklearn.metrics import confusion_matrix, classification_report, roc_auc_score, roc_curve\n",
    "import matplotlib.pyplot as plt\n",
    "from sklearn.compose import ColumnTransformer\n",
    "from sklearn.pipeline import Pipeline\n",
    "from sklearn.impute import SimpleImputer\n",
    "from sklearn.utils import resample\n",
    "\n",
    "# Load the datasets\n",
    "train_transaction = pd.read_csv('train_transaction.csv')\n",
    "test_transaction = pd.read_csv('test_transaction.csv')\n",
    "train_identity = pd.read_csv('train_identity.csv')\n",
    "test_identity = pd.read_csv('test_identity.csv')"
   ]
  },
  {
   "cell_type": "code",
   "execution_count": 2,
   "metadata": {},
   "outputs": [
    {
     "name": "stdout",
     "output_type": "stream",
     "text": [
      "   TransactionID  isFraud  TransactionDT  TransactionAmt ProductCD  card1  \\\n",
      "0        2987000        0          86400            68.5         W  13926   \n",
      "1        2987001        0          86401            29.0         W   2755   \n",
      "2        2987002        0          86469            59.0         W   4663   \n",
      "3        2987003        0          86499            50.0         W  18132   \n",
      "4        2987004        0          86506            50.0         H   4497   \n",
      "\n",
      "   card2  card3       card4  card5  ...                id_31  id_32  \\\n",
      "0    NaN  150.0    discover  142.0  ...                  NaN    NaN   \n",
      "1  404.0  150.0  mastercard  102.0  ...                  NaN    NaN   \n",
      "2  490.0  150.0        visa  166.0  ...                  NaN    NaN   \n",
      "3  567.0  150.0  mastercard  117.0  ...                  NaN    NaN   \n",
      "4  514.0  150.0  mastercard  102.0  ...  samsung browser 6.2   32.0   \n",
      "\n",
      "       id_33           id_34  id_35 id_36 id_37  id_38  DeviceType  \\\n",
      "0        NaN             NaN    NaN   NaN   NaN    NaN         NaN   \n",
      "1        NaN             NaN    NaN   NaN   NaN    NaN         NaN   \n",
      "2        NaN             NaN    NaN   NaN   NaN    NaN         NaN   \n",
      "3        NaN             NaN    NaN   NaN   NaN    NaN         NaN   \n",
      "4  2220x1080  match_status:2      T     F     T      T      mobile   \n",
      "\n",
      "                      DeviceInfo  \n",
      "0                            NaN  \n",
      "1                            NaN  \n",
      "2                            NaN  \n",
      "3                            NaN  \n",
      "4  SAMSUNG SM-G892A Build/NRD90M  \n",
      "\n",
      "[5 rows x 434 columns]\n",
      "   TransactionID  TransactionDT  TransactionAmt ProductCD  card1  card2  \\\n",
      "0        3663549       18403224           31.95         W  10409  111.0   \n",
      "1        3663550       18403263           49.00         W   4272  111.0   \n",
      "2        3663551       18403310          171.00         W   4476  574.0   \n",
      "3        3663552       18403310          284.95         W  10989  360.0   \n",
      "4        3663553       18403317           67.95         W  18018  452.0   \n",
      "\n",
      "   card3       card4  card5  card6  ...  id-31  id-32  id-33  id-34 id-35  \\\n",
      "0  150.0        visa  226.0  debit  ...    NaN    NaN    NaN    NaN   NaN   \n",
      "1  150.0        visa  226.0  debit  ...    NaN    NaN    NaN    NaN   NaN   \n",
      "2  150.0        visa  226.0  debit  ...    NaN    NaN    NaN    NaN   NaN   \n",
      "3  150.0        visa  166.0  debit  ...    NaN    NaN    NaN    NaN   NaN   \n",
      "4  150.0  mastercard  117.0  debit  ...    NaN    NaN    NaN    NaN   NaN   \n",
      "\n",
      "  id-36  id-37  id-38  DeviceType  DeviceInfo  \n",
      "0   NaN    NaN    NaN         NaN         NaN  \n",
      "1   NaN    NaN    NaN         NaN         NaN  \n",
      "2   NaN    NaN    NaN         NaN         NaN  \n",
      "3   NaN    NaN    NaN         NaN         NaN  \n",
      "4   NaN    NaN    NaN         NaN         NaN  \n",
      "\n",
      "[5 rows x 433 columns]\n",
      "Size of train data: (590540, 434)\n",
      "Size of test data: (506691, 433)\n",
      "Missing values in train data: 115523073\n",
      "Missing values in test data: 90186908\n"
     ]
    }
   ],
   "source": [
    "# Merge the datasets on TransactionID\n",
    "train_data = pd.merge(train_transaction, train_identity, on='TransactionID', how='left')\n",
    "test_data = pd.merge(test_transaction, test_identity, on='TransactionID', how='left')\n",
    "\n",
    "# Display the first few rows of the merged datasets\n",
    "print(train_data.head())\n",
    "print(test_data.head())\n",
    "\n",
    "print(\"Size of train data:\", train_data.shape)\n",
    "print(\"Size of test data:\", test_data.shape)\n",
    "\n",
    "# Check for missing values\n",
    "print(\"Missing values in train data:\", train_data.isnull().sum().sum())\n",
    "print(\"Missing values in test data:\", test_data.isnull().sum().sum())"
   ]
  },
  {
   "cell_type": "code",
   "execution_count": 3,
   "metadata": {},
   "outputs": [],
   "source": [
    "# Define features and target\n",
    "X = train_data.drop(columns=['isFraud', 'TransactionID'])\n",
    "y = train_data['isFraud']\n",
    "\n",
    "# Handle categorical variables and missing values using a pipeline\n",
    "numeric_features = X.select_dtypes(include=['int64', 'float64']).columns\n",
    "categorical_features = X.select_dtypes(include=['object']).columns\n",
    "\n",
    "numeric_transformer = Pipeline(steps=[\n",
    "    ('imputer', SimpleImputer(strategy='median')),\n",
    "    ('scaler', StandardScaler())])\n",
    "\n",
    "categorical_transformer = Pipeline(steps=[\n",
    "    ('imputer', SimpleImputer(strategy='most_frequent')),\n",
    "    ('onehot', OneHotEncoder(handle_unknown='ignore', sparse=False))])\n",
    "\n",
    "preprocessor = ColumnTransformer(\n",
    "    transformers=[\n",
    "        ('num', numeric_transformer, numeric_features),\n",
    "        ('cat', categorical_transformer, categorical_features)])\n",
    "\n",
    "# Apply undersampling to balance the dataset\n",
    "fraud = train_data[train_data['isFraud'] == 1]\n",
    "non_fraud = train_data[train_data['isFraud'] == 0]\n",
    "\n",
    "non_fraud_downsampled = resample(non_fraud,\n",
    "                                 replace=False,\n",
    "                                 n_samples=len(fraud),\n",
    "                                 random_state=42)\n",
    "\n",
    "train_data_balanced = pd.concat([fraud, non_fraud_downsampled])\n",
    "\n",
    "X_balanced = train_data_balanced.drop(columns=['isFraud', 'TransactionID'])\n",
    "y_balanced = train_data_balanced['isFraud']\n",
    "\n",
    "# Split the balanced data into training and validation sets\n",
    "X_train, X_val, y_train, y_val = train_test_split(X_balanced, y_balanced, test_size=0.2, random_state=42, stratify=y_balanced)"
   ]
  },
  {
   "cell_type": "code",
   "execution_count": 4,
   "metadata": {},
   "outputs": [
    {
     "name": "stderr",
     "output_type": "stream",
     "text": [
      "/home/datascience/.local/lib/python3.8/site-packages/sklearn/preprocessing/_encoders.py:975: FutureWarning: `sparse` was renamed to `sparse_output` in version 1.2 and will be removed in 1.4. `sparse_output` is ignored unless you leave `sparse` to its default value.\n",
      "  warnings.warn(\n"
     ]
    },
    {
     "data": {
      "text/html": [
       "<style>#sk-container-id-1 {color: black;}#sk-container-id-1 pre{padding: 0;}#sk-container-id-1 div.sk-toggleable {background-color: white;}#sk-container-id-1 label.sk-toggleable__label {cursor: pointer;display: block;width: 100%;margin-bottom: 0;padding: 0.3em;box-sizing: border-box;text-align: center;}#sk-container-id-1 label.sk-toggleable__label-arrow:before {content: \"▸\";float: left;margin-right: 0.25em;color: #696969;}#sk-container-id-1 label.sk-toggleable__label-arrow:hover:before {color: black;}#sk-container-id-1 div.sk-estimator:hover label.sk-toggleable__label-arrow:before {color: black;}#sk-container-id-1 div.sk-toggleable__content {max-height: 0;max-width: 0;overflow: hidden;text-align: left;background-color: #f0f8ff;}#sk-container-id-1 div.sk-toggleable__content pre {margin: 0.2em;color: black;border-radius: 0.25em;background-color: #f0f8ff;}#sk-container-id-1 input.sk-toggleable__control:checked~div.sk-toggleable__content {max-height: 200px;max-width: 100%;overflow: auto;}#sk-container-id-1 input.sk-toggleable__control:checked~label.sk-toggleable__label-arrow:before {content: \"▾\";}#sk-container-id-1 div.sk-estimator input.sk-toggleable__control:checked~label.sk-toggleable__label {background-color: #d4ebff;}#sk-container-id-1 div.sk-label input.sk-toggleable__control:checked~label.sk-toggleable__label {background-color: #d4ebff;}#sk-container-id-1 input.sk-hidden--visually {border: 0;clip: rect(1px 1px 1px 1px);clip: rect(1px, 1px, 1px, 1px);height: 1px;margin: -1px;overflow: hidden;padding: 0;position: absolute;width: 1px;}#sk-container-id-1 div.sk-estimator {font-family: monospace;background-color: #f0f8ff;border: 1px dotted black;border-radius: 0.25em;box-sizing: border-box;margin-bottom: 0.5em;}#sk-container-id-1 div.sk-estimator:hover {background-color: #d4ebff;}#sk-container-id-1 div.sk-parallel-item::after {content: \"\";width: 100%;border-bottom: 1px solid gray;flex-grow: 1;}#sk-container-id-1 div.sk-label:hover label.sk-toggleable__label {background-color: #d4ebff;}#sk-container-id-1 div.sk-serial::before {content: \"\";position: absolute;border-left: 1px solid gray;box-sizing: border-box;top: 0;bottom: 0;left: 50%;z-index: 0;}#sk-container-id-1 div.sk-serial {display: flex;flex-direction: column;align-items: center;background-color: white;padding-right: 0.2em;padding-left: 0.2em;position: relative;}#sk-container-id-1 div.sk-item {position: relative;z-index: 1;}#sk-container-id-1 div.sk-parallel {display: flex;align-items: stretch;justify-content: center;background-color: white;position: relative;}#sk-container-id-1 div.sk-item::before, #sk-container-id-1 div.sk-parallel-item::before {content: \"\";position: absolute;border-left: 1px solid gray;box-sizing: border-box;top: 0;bottom: 0;left: 50%;z-index: -1;}#sk-container-id-1 div.sk-parallel-item {display: flex;flex-direction: column;z-index: 1;position: relative;background-color: white;}#sk-container-id-1 div.sk-parallel-item:first-child::after {align-self: flex-end;width: 50%;}#sk-container-id-1 div.sk-parallel-item:last-child::after {align-self: flex-start;width: 50%;}#sk-container-id-1 div.sk-parallel-item:only-child::after {width: 0;}#sk-container-id-1 div.sk-dashed-wrapped {border: 1px dashed gray;margin: 0 0.4em 0.5em 0.4em;box-sizing: border-box;padding-bottom: 0.4em;background-color: white;}#sk-container-id-1 div.sk-label label {font-family: monospace;font-weight: bold;display: inline-block;line-height: 1.2em;}#sk-container-id-1 div.sk-label-container {text-align: center;}#sk-container-id-1 div.sk-container {/* jupyter's `normalize.less` sets `[hidden] { display: none; }` but bootstrap.min.css set `[hidden] { display: none !important; }` so we also need the `!important` here to be able to override the default hidden behavior on the sphinx rendered scikit-learn.org. See: https://github.com/scikit-learn/scikit-learn/issues/21755 */display: inline-block !important;position: relative;}#sk-container-id-1 div.sk-text-repr-fallback {display: none;}</style><div id=\"sk-container-id-1\" class=\"sk-top-container\"><div class=\"sk-text-repr-fallback\"><pre>Pipeline(steps=[(&#x27;preprocessor&#x27;,\n",
       "                 ColumnTransformer(transformers=[(&#x27;num&#x27;,\n",
       "                                                  Pipeline(steps=[(&#x27;imputer&#x27;,\n",
       "                                                                   SimpleImputer(strategy=&#x27;median&#x27;)),\n",
       "                                                                  (&#x27;scaler&#x27;,\n",
       "                                                                   StandardScaler())]),\n",
       "                                                  Index([&#x27;TransactionDT&#x27;, &#x27;TransactionAmt&#x27;, &#x27;card1&#x27;, &#x27;card2&#x27;, &#x27;card3&#x27;, &#x27;card5&#x27;,\n",
       "       &#x27;addr1&#x27;, &#x27;addr2&#x27;, &#x27;dist1&#x27;, &#x27;dist2&#x27;,\n",
       "       ...\n",
       "       &#x27;id_17&#x27;, &#x27;id_18&#x27;, &#x27;id_19&#x27;, &#x27;id_20&#x27;, &#x27;id_21&#x27;, &#x27;id_22&#x27;, &#x27;id_24&#x27;, &#x27;id_25&#x27;,\n",
       "       &#x27;id_26&#x27;, &#x27;id_32&#x27;],...\n",
       "                                                                                 sparse=False))]),\n",
       "                                                  Index([&#x27;ProductCD&#x27;, &#x27;card4&#x27;, &#x27;card6&#x27;, &#x27;P_emaildomain&#x27;, &#x27;R_emaildomain&#x27;, &#x27;M1&#x27;,\n",
       "       &#x27;M2&#x27;, &#x27;M3&#x27;, &#x27;M4&#x27;, &#x27;M5&#x27;, &#x27;M6&#x27;, &#x27;M7&#x27;, &#x27;M8&#x27;, &#x27;M9&#x27;, &#x27;id_12&#x27;, &#x27;id_15&#x27;,\n",
       "       &#x27;id_16&#x27;, &#x27;id_23&#x27;, &#x27;id_27&#x27;, &#x27;id_28&#x27;, &#x27;id_29&#x27;, &#x27;id_30&#x27;, &#x27;id_31&#x27;, &#x27;id_33&#x27;,\n",
       "       &#x27;id_34&#x27;, &#x27;id_35&#x27;, &#x27;id_36&#x27;, &#x27;id_37&#x27;, &#x27;id_38&#x27;, &#x27;DeviceType&#x27;,\n",
       "       &#x27;DeviceInfo&#x27;],\n",
       "      dtype=&#x27;object&#x27;))])),\n",
       "                (&#x27;classifier&#x27;, RandomForestClassifier(random_state=42))])</pre><b>In a Jupyter environment, please rerun this cell to show the HTML representation or trust the notebook. <br />On GitHub, the HTML representation is unable to render, please try loading this page with nbviewer.org.</b></div><div class=\"sk-container\" hidden><div class=\"sk-item sk-dashed-wrapped\"><div class=\"sk-label-container\"><div class=\"sk-label sk-toggleable\"><input class=\"sk-toggleable__control sk-hidden--visually\" id=\"sk-estimator-id-1\" type=\"checkbox\" ><label for=\"sk-estimator-id-1\" class=\"sk-toggleable__label sk-toggleable__label-arrow\">Pipeline</label><div class=\"sk-toggleable__content\"><pre>Pipeline(steps=[(&#x27;preprocessor&#x27;,\n",
       "                 ColumnTransformer(transformers=[(&#x27;num&#x27;,\n",
       "                                                  Pipeline(steps=[(&#x27;imputer&#x27;,\n",
       "                                                                   SimpleImputer(strategy=&#x27;median&#x27;)),\n",
       "                                                                  (&#x27;scaler&#x27;,\n",
       "                                                                   StandardScaler())]),\n",
       "                                                  Index([&#x27;TransactionDT&#x27;, &#x27;TransactionAmt&#x27;, &#x27;card1&#x27;, &#x27;card2&#x27;, &#x27;card3&#x27;, &#x27;card5&#x27;,\n",
       "       &#x27;addr1&#x27;, &#x27;addr2&#x27;, &#x27;dist1&#x27;, &#x27;dist2&#x27;,\n",
       "       ...\n",
       "       &#x27;id_17&#x27;, &#x27;id_18&#x27;, &#x27;id_19&#x27;, &#x27;id_20&#x27;, &#x27;id_21&#x27;, &#x27;id_22&#x27;, &#x27;id_24&#x27;, &#x27;id_25&#x27;,\n",
       "       &#x27;id_26&#x27;, &#x27;id_32&#x27;],...\n",
       "                                                                                 sparse=False))]),\n",
       "                                                  Index([&#x27;ProductCD&#x27;, &#x27;card4&#x27;, &#x27;card6&#x27;, &#x27;P_emaildomain&#x27;, &#x27;R_emaildomain&#x27;, &#x27;M1&#x27;,\n",
       "       &#x27;M2&#x27;, &#x27;M3&#x27;, &#x27;M4&#x27;, &#x27;M5&#x27;, &#x27;M6&#x27;, &#x27;M7&#x27;, &#x27;M8&#x27;, &#x27;M9&#x27;, &#x27;id_12&#x27;, &#x27;id_15&#x27;,\n",
       "       &#x27;id_16&#x27;, &#x27;id_23&#x27;, &#x27;id_27&#x27;, &#x27;id_28&#x27;, &#x27;id_29&#x27;, &#x27;id_30&#x27;, &#x27;id_31&#x27;, &#x27;id_33&#x27;,\n",
       "       &#x27;id_34&#x27;, &#x27;id_35&#x27;, &#x27;id_36&#x27;, &#x27;id_37&#x27;, &#x27;id_38&#x27;, &#x27;DeviceType&#x27;,\n",
       "       &#x27;DeviceInfo&#x27;],\n",
       "      dtype=&#x27;object&#x27;))])),\n",
       "                (&#x27;classifier&#x27;, RandomForestClassifier(random_state=42))])</pre></div></div></div><div class=\"sk-serial\"><div class=\"sk-item sk-dashed-wrapped\"><div class=\"sk-label-container\"><div class=\"sk-label sk-toggleable\"><input class=\"sk-toggleable__control sk-hidden--visually\" id=\"sk-estimator-id-2\" type=\"checkbox\" ><label for=\"sk-estimator-id-2\" class=\"sk-toggleable__label sk-toggleable__label-arrow\">preprocessor: ColumnTransformer</label><div class=\"sk-toggleable__content\"><pre>ColumnTransformer(transformers=[(&#x27;num&#x27;,\n",
       "                                 Pipeline(steps=[(&#x27;imputer&#x27;,\n",
       "                                                  SimpleImputer(strategy=&#x27;median&#x27;)),\n",
       "                                                 (&#x27;scaler&#x27;, StandardScaler())]),\n",
       "                                 Index([&#x27;TransactionDT&#x27;, &#x27;TransactionAmt&#x27;, &#x27;card1&#x27;, &#x27;card2&#x27;, &#x27;card3&#x27;, &#x27;card5&#x27;,\n",
       "       &#x27;addr1&#x27;, &#x27;addr2&#x27;, &#x27;dist1&#x27;, &#x27;dist2&#x27;,\n",
       "       ...\n",
       "       &#x27;id_17&#x27;, &#x27;id_18&#x27;, &#x27;id_19&#x27;, &#x27;id_20&#x27;, &#x27;id_21&#x27;, &#x27;id_22&#x27;, &#x27;id_24&#x27;, &#x27;id_25&#x27;,\n",
       "       &#x27;id_26&#x27;, &#x27;id_32&#x27;],\n",
       "      dtype=&#x27;object&#x27;, length=401)),\n",
       "                                (&#x27;ca...\n",
       "                                                  SimpleImputer(strategy=&#x27;most_frequent&#x27;)),\n",
       "                                                 (&#x27;onehot&#x27;,\n",
       "                                                  OneHotEncoder(handle_unknown=&#x27;ignore&#x27;,\n",
       "                                                                sparse=False))]),\n",
       "                                 Index([&#x27;ProductCD&#x27;, &#x27;card4&#x27;, &#x27;card6&#x27;, &#x27;P_emaildomain&#x27;, &#x27;R_emaildomain&#x27;, &#x27;M1&#x27;,\n",
       "       &#x27;M2&#x27;, &#x27;M3&#x27;, &#x27;M4&#x27;, &#x27;M5&#x27;, &#x27;M6&#x27;, &#x27;M7&#x27;, &#x27;M8&#x27;, &#x27;M9&#x27;, &#x27;id_12&#x27;, &#x27;id_15&#x27;,\n",
       "       &#x27;id_16&#x27;, &#x27;id_23&#x27;, &#x27;id_27&#x27;, &#x27;id_28&#x27;, &#x27;id_29&#x27;, &#x27;id_30&#x27;, &#x27;id_31&#x27;, &#x27;id_33&#x27;,\n",
       "       &#x27;id_34&#x27;, &#x27;id_35&#x27;, &#x27;id_36&#x27;, &#x27;id_37&#x27;, &#x27;id_38&#x27;, &#x27;DeviceType&#x27;,\n",
       "       &#x27;DeviceInfo&#x27;],\n",
       "      dtype=&#x27;object&#x27;))])</pre></div></div></div><div class=\"sk-parallel\"><div class=\"sk-parallel-item\"><div class=\"sk-item\"><div class=\"sk-label-container\"><div class=\"sk-label sk-toggleable\"><input class=\"sk-toggleable__control sk-hidden--visually\" id=\"sk-estimator-id-3\" type=\"checkbox\" ><label for=\"sk-estimator-id-3\" class=\"sk-toggleable__label sk-toggleable__label-arrow\">num</label><div class=\"sk-toggleable__content\"><pre>Index([&#x27;TransactionDT&#x27;, &#x27;TransactionAmt&#x27;, &#x27;card1&#x27;, &#x27;card2&#x27;, &#x27;card3&#x27;, &#x27;card5&#x27;,\n",
       "       &#x27;addr1&#x27;, &#x27;addr2&#x27;, &#x27;dist1&#x27;, &#x27;dist2&#x27;,\n",
       "       ...\n",
       "       &#x27;id_17&#x27;, &#x27;id_18&#x27;, &#x27;id_19&#x27;, &#x27;id_20&#x27;, &#x27;id_21&#x27;, &#x27;id_22&#x27;, &#x27;id_24&#x27;, &#x27;id_25&#x27;,\n",
       "       &#x27;id_26&#x27;, &#x27;id_32&#x27;],\n",
       "      dtype=&#x27;object&#x27;, length=401)</pre></div></div></div><div class=\"sk-serial\"><div class=\"sk-item\"><div class=\"sk-serial\"><div class=\"sk-item\"><div class=\"sk-estimator sk-toggleable\"><input class=\"sk-toggleable__control sk-hidden--visually\" id=\"sk-estimator-id-4\" type=\"checkbox\" ><label for=\"sk-estimator-id-4\" class=\"sk-toggleable__label sk-toggleable__label-arrow\">SimpleImputer</label><div class=\"sk-toggleable__content\"><pre>SimpleImputer(strategy=&#x27;median&#x27;)</pre></div></div></div><div class=\"sk-item\"><div class=\"sk-estimator sk-toggleable\"><input class=\"sk-toggleable__control sk-hidden--visually\" id=\"sk-estimator-id-5\" type=\"checkbox\" ><label for=\"sk-estimator-id-5\" class=\"sk-toggleable__label sk-toggleable__label-arrow\">StandardScaler</label><div class=\"sk-toggleable__content\"><pre>StandardScaler()</pre></div></div></div></div></div></div></div></div><div class=\"sk-parallel-item\"><div class=\"sk-item\"><div class=\"sk-label-container\"><div class=\"sk-label sk-toggleable\"><input class=\"sk-toggleable__control sk-hidden--visually\" id=\"sk-estimator-id-6\" type=\"checkbox\" ><label for=\"sk-estimator-id-6\" class=\"sk-toggleable__label sk-toggleable__label-arrow\">cat</label><div class=\"sk-toggleable__content\"><pre>Index([&#x27;ProductCD&#x27;, &#x27;card4&#x27;, &#x27;card6&#x27;, &#x27;P_emaildomain&#x27;, &#x27;R_emaildomain&#x27;, &#x27;M1&#x27;,\n",
       "       &#x27;M2&#x27;, &#x27;M3&#x27;, &#x27;M4&#x27;, &#x27;M5&#x27;, &#x27;M6&#x27;, &#x27;M7&#x27;, &#x27;M8&#x27;, &#x27;M9&#x27;, &#x27;id_12&#x27;, &#x27;id_15&#x27;,\n",
       "       &#x27;id_16&#x27;, &#x27;id_23&#x27;, &#x27;id_27&#x27;, &#x27;id_28&#x27;, &#x27;id_29&#x27;, &#x27;id_30&#x27;, &#x27;id_31&#x27;, &#x27;id_33&#x27;,\n",
       "       &#x27;id_34&#x27;, &#x27;id_35&#x27;, &#x27;id_36&#x27;, &#x27;id_37&#x27;, &#x27;id_38&#x27;, &#x27;DeviceType&#x27;,\n",
       "       &#x27;DeviceInfo&#x27;],\n",
       "      dtype=&#x27;object&#x27;)</pre></div></div></div><div class=\"sk-serial\"><div class=\"sk-item\"><div class=\"sk-serial\"><div class=\"sk-item\"><div class=\"sk-estimator sk-toggleable\"><input class=\"sk-toggleable__control sk-hidden--visually\" id=\"sk-estimator-id-7\" type=\"checkbox\" ><label for=\"sk-estimator-id-7\" class=\"sk-toggleable__label sk-toggleable__label-arrow\">SimpleImputer</label><div class=\"sk-toggleable__content\"><pre>SimpleImputer(strategy=&#x27;most_frequent&#x27;)</pre></div></div></div><div class=\"sk-item\"><div class=\"sk-estimator sk-toggleable\"><input class=\"sk-toggleable__control sk-hidden--visually\" id=\"sk-estimator-id-8\" type=\"checkbox\" ><label for=\"sk-estimator-id-8\" class=\"sk-toggleable__label sk-toggleable__label-arrow\">OneHotEncoder</label><div class=\"sk-toggleable__content\"><pre>OneHotEncoder(handle_unknown=&#x27;ignore&#x27;, sparse=False)</pre></div></div></div></div></div></div></div></div></div></div><div class=\"sk-item\"><div class=\"sk-estimator sk-toggleable\"><input class=\"sk-toggleable__control sk-hidden--visually\" id=\"sk-estimator-id-9\" type=\"checkbox\" ><label for=\"sk-estimator-id-9\" class=\"sk-toggleable__label sk-toggleable__label-arrow\">RandomForestClassifier</label><div class=\"sk-toggleable__content\"><pre>RandomForestClassifier(random_state=42)</pre></div></div></div></div></div></div></div>"
      ],
      "text/plain": [
       "Pipeline(steps=[('preprocessor',\n",
       "                 ColumnTransformer(transformers=[('num',\n",
       "                                                  Pipeline(steps=[('imputer',\n",
       "                                                                   SimpleImputer(strategy='median')),\n",
       "                                                                  ('scaler',\n",
       "                                                                   StandardScaler())]),\n",
       "                                                  Index(['TransactionDT', 'TransactionAmt', 'card1', 'card2', 'card3', 'card5',\n",
       "       'addr1', 'addr2', 'dist1', 'dist2',\n",
       "       ...\n",
       "       'id_17', 'id_18', 'id_19', 'id_20', 'id_21', 'id_22', 'id_24', 'id_25',\n",
       "       'id_26', 'id_32'],...\n",
       "                                                                                 sparse=False))]),\n",
       "                                                  Index(['ProductCD', 'card4', 'card6', 'P_emaildomain', 'R_emaildomain', 'M1',\n",
       "       'M2', 'M3', 'M4', 'M5', 'M6', 'M7', 'M8', 'M9', 'id_12', 'id_15',\n",
       "       'id_16', 'id_23', 'id_27', 'id_28', 'id_29', 'id_30', 'id_31', 'id_33',\n",
       "       'id_34', 'id_35', 'id_36', 'id_37', 'id_38', 'DeviceType',\n",
       "       'DeviceInfo'],\n",
       "      dtype='object'))])),\n",
       "                ('classifier', RandomForestClassifier(random_state=42))])"
      ]
     },
     "execution_count": 4,
     "metadata": {},
     "output_type": "execute_result"
    }
   ],
   "source": [
    "# Create and train the pipeline\n",
    "model = Pipeline(steps=[('preprocessor', preprocessor),\n",
    "                        ('classifier', RandomForestClassifier(n_estimators=100, random_state=42))])\n",
    "\n",
    "model.fit(X_train, y_train)"
   ]
  },
  {
   "cell_type": "code",
   "execution_count": 5,
   "metadata": {},
   "outputs": [
    {
     "name": "stdout",
     "output_type": "stream",
     "text": [
      "Confusion Matrix:\n",
      "[[3603  530]\n",
      " [ 685 3448]]\n",
      "\n",
      "Classification Report:\n",
      "              precision    recall  f1-score   support\n",
      "\n",
      "           0       0.84      0.87      0.86      4133\n",
      "           1       0.87      0.83      0.85      4133\n",
      "\n",
      "    accuracy                           0.85      8266\n",
      "   macro avg       0.85      0.85      0.85      8266\n",
      "weighted avg       0.85      0.85      0.85      8266\n",
      "\n",
      "\n",
      "ROC AUC Score: 0.9283841896430733\n"
     ]
    }
   ],
   "source": [
    "# Evaluate the model\n",
    "y_pred = model.predict(X_val)\n",
    "y_pred_proba = model.predict_proba(X_val)[:, 1]\n",
    "\n",
    "conf_matrix = confusion_matrix(y_val, y_pred)\n",
    "class_report = classification_report(y_val, y_pred)\n",
    "roc_auc = roc_auc_score(y_val, y_pred_proba)\n",
    "\n",
    "print(\"Confusion Matrix:\")\n",
    "print(conf_matrix)\n",
    "print(\"\\nClassification Report:\")\n",
    "print(class_report)\n",
    "print(\"\\nROC AUC Score:\", roc_auc)"
   ]
  },
  {
   "cell_type": "code",
   "execution_count": 6,
   "metadata": {},
   "outputs": [
    {
     "data": {
      "image/png": "[encoded data removed]",
      "text/plain": [
       "<Figure size 576x432 with 2 Axes>"
      ]
     },
     "metadata": {
      "needs_background": "light"
     },
     "output_type": "display_data"
    },
    {
     "data": {
      "image/png": "[encoded data removed]",
      "text/plain": [
       "<Figure size 432x288 with 1 Axes>"
      ]
     },
     "metadata": {
      "needs_background": "light"
     },
     "output_type": "display_data"
    }
   ],
   "source": [
    "# Plot confusion matrix\n",
    "plt.figure(figsize=(8, 6))\n",
    "plt.imshow(conf_matrix, interpolation='nearest', cmap=plt.cm.Blues)\n",
    "plt.title('Confusion Matrix')\n",
    "plt.colorbar()\n",
    "tick_marks = np.arange(2)\n",
    "plt.xticks(tick_marks, ['Non-Fraud', 'Fraud'], rotation=45)\n",
    "plt.yticks(tick_marks, ['Non-Fraud', 'Fraud'])\n",
    "plt.tight_layout()\n",
    "plt.ylabel('Actual label')\n",
    "plt.xlabel('Predicted label')\n",
    "\n",
    "thresh = conf_matrix.max() / 2.\n",
    "for i, j in np.ndindex(conf_matrix.shape):\n",
    "    plt.text(j, i, format(conf_matrix[i, j], 'd'),\n",
    "             horizontalalignment=\"center\",\n",
    "             color=\"white\" if conf_matrix[i, j] > thresh else \"black\")\n",
    "plt.show()\n",
    "\n",
    "# Plot ROC curve\n",
    "fpr, tpr, _ = roc_curve(y_val, y_pred_proba)\n",
    "plt.figure()\n",
    "plt.plot(fpr, tpr, color='darkorange', lw=2, label='ROC curve')\n",
    "plt.plot([0, 1], [0, 1], color='navy', lw=2, linestyle='--')\n",
    "plt.xlim([0.0, 1.0])\n",
    "plt.ylim([0.0, 1.05])\n",
    "plt.xlabel('False Positive Rate')\n",
    "plt.ylabel('True Positive Rate')\n",
    "plt.title('Receiver Operating Characteristic')\n",
    "plt.legend(loc=\"lower right\")\n",
    "plt.show()"
   ]
  },
  {
   "cell_type": "code",
   "execution_count": null,
   "metadata": {},
   "outputs": [],
   "source": [
    "# Process the test data\n",
    "X_test = test_data.drop(columns=['TransactionID'])\n",
    "\n",
    "# Predict on the test data\n",
    "test_predictions = model.predict(X_test)\n",
    "\n",
    "# Save the predictions to a CSV file\n",
    "submission = pd.DataFrame({\n",
    "    'TransactionID': pd.read_csv('test_transaction.csv')['TransactionID'],\n",
    "    'isFraud': test_predictions\n",
    "})\n",
    "submission.to_csv('submission.csv', index=False)"
   ]
  },
  {
   "cell_type": "code",
   "execution_count": null,
   "metadata": {},
   "outputs": [],
   "source": []
  }
 ],
 "metadata": {
  "kernelspec": {
   "display_name": "Python 3",
   "language": "python",
   "name": "python3"
  },
  "language_info": {
   "codemirror_mode": {
    "name": "ipython",
    "version": 3
   },
   "file_extension": ".py",
   "mimetype": "text/x-python",
   "name": "python",
   "nbconvert_exporter": "python",
   "pygments_lexer": "ipython3",
   "version": "3.8.10"
  }
 },
 "nbformat": 4,
 "nbformat_minor": 4
}
